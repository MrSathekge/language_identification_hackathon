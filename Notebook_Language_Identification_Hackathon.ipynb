{
 "cells": [
  {
   "cell_type": "markdown",
   "id": "06ccbea2",
   "metadata": {},
   "source": [
    "## EXPLORE Data Science Academy Classification Hackathon\n",
    "### Overview\n",
    "\n",
    "South Africa is a multicultural society that is characterised by its rich linguistic diversity. Language is an indispensable tool that can be used to deepen democracy and also contribute to the social, cultural, intellectual, economic and political life of the South African society.\n",
    "\n",
    "The country is multilingual with 11 official languages, each of which is guaranteed equal status. Most South Africans are multilingual and able to speak at least two or more of the official languages.\n",
    "From South African Government\n",
    "\n",
    "<img src=\"images/South_Africa_languages_2011.jpg\" alt=\"An image of South Africa's home-language speakers in 2011. (NB: This image might not be visible on GitHub. View it on VS Code or Jupyter Notebook)\" width=\"650\" />\n",
    "\n",
    "With such a multilingual population, it is only obvious that our systems and devices also communicate in multi-languages.\n",
    "\n",
    "**In this challenge, you will take text which is in any of South Africa's 11 Official languages and identify which language the text is in. This is an example of NLP's Language Identification, the task of determining the natural language that a piece of text is written in.**"
   ]
  },
  {
   "cell_type": "markdown",
   "id": "563870dc",
   "metadata": {},
   "source": [
    "# Dataset Description\n",
    "\n",
    "The dataset used for this challenge is the NCHLT Text Corpora collected by the South African Department of Arts and Culture & Centre for Text Technology (CTexT, North-West University, South Africa). The training set was improved through additional cleaning done by Praekelt.\n",
    "\n",
    "\n",
    "\n",
    "The data is in the form Language ID, Text. The text is in various states of cleanliness. Some NLP techniques will be necessary to clean up the data.\n",
    "File descriptions\n",
    "\n",
    "\n",
    "**train_set.csv** - the training set\n",
    "\n",
    "**test_set.csv** - the test set\n",
    "\n",
    "**sample_submission.csv** - a sample submission file in the correct format\n",
    "\n",
    "### Language IDs\n",
    "\n",
    "\n",
    "        afr - Afrikaans\n",
    "\n",
    "        eng - English\n",
    "\n",
    "        nbl - isiNdebele\n",
    "\n",
    "        nso - Sepedi\n",
    "\n",
    "        sot - Sesotho\n",
    "\n",
    "        ssw - siSwati\n",
    "\n",
    "        tsn - Setswana\n",
    "\n",
    "        tso - Xitsonga\n",
    "\n",
    "        ven - Tshivenda\n",
    "\n",
    "        xho - isiXhosa\n",
    "\n",
    "        zul - isiZulu"
   ]
  },
  {
   "cell_type": "markdown",
   "id": "47ad97de",
   "metadata": {},
   "source": [
    "<a id=\"cont\"></a>\n",
    "\n",
    "## Table of Contents\n",
    "\n",
    "<a href=#one>1. Importing Packages</a>\n",
    "\n",
    "<a href=#two>2. Loading Data</a>\n",
    "\n",
    "<a href=#three>3. Exploratory Data Analysis (EDA)</a>\n",
    "\n",
    "<a href=#four>4. Data Engineering</a>\n",
    "\n",
    "<a href=#five>5. Modeling</a>\n",
    "\n",
    "<a href=#six>6. Model Performance</a>"
   ]
  },
  {
   "cell_type": "markdown",
   "id": "2ab3856c",
   "metadata": {},
   "source": [
    "<a id=\"one\"></a>\n",
    "# Importing some packages\n",
    "<a href=#cont>Back to Table of Contents</a>"
   ]
  },
  {
   "cell_type": "code",
   "execution_count": 1,
   "id": "654218fc",
   "metadata": {},
   "outputs": [],
   "source": [
    "import pandas as pd\n",
    "import numpy as np\n",
    "import seaborn as sns\n",
    "import nltk\n",
    "import string\n",
    "import re\n",
    "\n",
    "from nltk.tokenize import TreebankWordTokenizer\n",
    "from nltk import SnowballStemmer\n",
    "\n",
    "from sklearn.linear_model import LogisticRegression\n",
    "from sklearn.neighbors import KNeighborsClassifier\n",
    "from sklearn.ensemble import RandomForestClassifier, AdaBoostClassifier\n",
    "from sklearn.naive_bayes import GaussianNB\n",
    "from sklearn.svm import SVC, LinearSVC\n",
    "from sklearn.model_selection import GridSearchCV\n",
    "from sklearn.naive_bayes import MultinomialNB\n",
    "\n",
    "from nltk.corpus import wordnet, stopwords\n",
    "from nltk.stem import WordNetLemmatizer\n",
    "from nltk.tokenize import word_tokenize\n",
    "from nltk.tokenize import TweetTokenizer\n",
    "\n",
    "from sklearn.feature_extraction.text import CountVectorizer\n",
    "from sklearn.model_selection import train_test_split\n",
    "\n",
    "from sklearn.metrics import f1_score, make_scorer, roc_auc_score, accuracy_score, confusion_matrix, classification_report\n",
    "from scikitplot.metrics import plot_confusion_matrix\n",
    "\n",
    "from PIL import Image\n",
    "import matplotlib.pyplot as plt\n",
    "from sklearn.metrics import plot_roc_curve\n",
    "%matplotlib inline\n",
    "\n",
    "import warnings\n",
    "warnings.filterwarnings('ignore')"
   ]
  },
  {
   "cell_type": "markdown",
   "id": "53dbb486",
   "metadata": {},
   "source": [
    "<a id=\"two\"></a>\n",
    "\n",
    "# Loading the data\n",
    "<a href=#cont>Back to Table of Contents</a>"
   ]
  },
  {
   "cell_type": "code",
   "execution_count": 2,
   "id": "a89f61bd",
   "metadata": {},
   "outputs": [],
   "source": [
    "df_train = pd.read_csv('train_set.csv')\n",
    "df_test = pd.read_csv('test_set.csv')"
   ]
  },
  {
   "cell_type": "markdown",
   "id": "42848993",
   "metadata": {},
   "source": [
    "<a id=\"three\"></a>\n",
    "# Exploratory Data Analysis (EDA)\n",
    "<a href=#cont>Back to Table of Contents</a>"
   ]
  },
  {
   "cell_type": "markdown",
   "id": "5b2de5b6",
   "metadata": {},
   "source": [
    "#### Below, the first 5 rows of both data sets are observed."
   ]
  },
  {
   "cell_type": "code",
   "execution_count": 3,
   "id": "b5f6eb1e",
   "metadata": {},
   "outputs": [
    {
     "data": {
      "text/html": [
       "<div>\n",
       "<style scoped>\n",
       "    .dataframe tbody tr th:only-of-type {\n",
       "        vertical-align: middle;\n",
       "    }\n",
       "\n",
       "    .dataframe tbody tr th {\n",
       "        vertical-align: top;\n",
       "    }\n",
       "\n",
       "    .dataframe thead th {\n",
       "        text-align: right;\n",
       "    }\n",
       "</style>\n",
       "<table border=\"1\" class=\"dataframe\">\n",
       "  <thead>\n",
       "    <tr style=\"text-align: right;\">\n",
       "      <th></th>\n",
       "      <th>lang_id</th>\n",
       "      <th>text</th>\n",
       "    </tr>\n",
       "  </thead>\n",
       "  <tbody>\n",
       "    <tr>\n",
       "      <th>0</th>\n",
       "      <td>xho</td>\n",
       "      <td>umgaqo-siseko wenza amalungiselelo kumaziko ax...</td>\n",
       "    </tr>\n",
       "    <tr>\n",
       "      <th>1</th>\n",
       "      <td>xho</td>\n",
       "      <td>i-dha iya kuba nobulumko bokubeka umsebenzi na...</td>\n",
       "    </tr>\n",
       "    <tr>\n",
       "      <th>2</th>\n",
       "      <td>eng</td>\n",
       "      <td>the province of kwazulu-natal department of tr...</td>\n",
       "    </tr>\n",
       "    <tr>\n",
       "      <th>3</th>\n",
       "      <td>nso</td>\n",
       "      <td>o netefatša gore o ba file dilo ka moka tše le...</td>\n",
       "    </tr>\n",
       "    <tr>\n",
       "      <th>4</th>\n",
       "      <td>ven</td>\n",
       "      <td>khomishini ya ndinganyiso ya mbeu yo ewa maana...</td>\n",
       "    </tr>\n",
       "  </tbody>\n",
       "</table>\n",
       "</div>"
      ],
      "text/plain": [
       "  lang_id                                               text\n",
       "0     xho  umgaqo-siseko wenza amalungiselelo kumaziko ax...\n",
       "1     xho  i-dha iya kuba nobulumko bokubeka umsebenzi na...\n",
       "2     eng  the province of kwazulu-natal department of tr...\n",
       "3     nso  o netefatša gore o ba file dilo ka moka tše le...\n",
       "4     ven  khomishini ya ndinganyiso ya mbeu yo ewa maana..."
      ]
     },
     "execution_count": 3,
     "metadata": {},
     "output_type": "execute_result"
    }
   ],
   "source": [
    "df_train.head()"
   ]
  },
  {
   "cell_type": "code",
   "execution_count": 4,
   "id": "d374ee5e",
   "metadata": {},
   "outputs": [
    {
     "data": {
      "text/html": [
       "<div>\n",
       "<style scoped>\n",
       "    .dataframe tbody tr th:only-of-type {\n",
       "        vertical-align: middle;\n",
       "    }\n",
       "\n",
       "    .dataframe tbody tr th {\n",
       "        vertical-align: top;\n",
       "    }\n",
       "\n",
       "    .dataframe thead th {\n",
       "        text-align: right;\n",
       "    }\n",
       "</style>\n",
       "<table border=\"1\" class=\"dataframe\">\n",
       "  <thead>\n",
       "    <tr style=\"text-align: right;\">\n",
       "      <th></th>\n",
       "      <th>index</th>\n",
       "      <th>text</th>\n",
       "    </tr>\n",
       "  </thead>\n",
       "  <tbody>\n",
       "    <tr>\n",
       "      <th>0</th>\n",
       "      <td>1</td>\n",
       "      <td>Mmasepala, fa maemo a a kgethegileng a letlele...</td>\n",
       "    </tr>\n",
       "    <tr>\n",
       "      <th>1</th>\n",
       "      <td>2</td>\n",
       "      <td>Uzakwaziswa ngokufaneleko nakungafuneka eminye...</td>\n",
       "    </tr>\n",
       "    <tr>\n",
       "      <th>2</th>\n",
       "      <td>3</td>\n",
       "      <td>Tshivhumbeo tshi fana na ngano dza vhathu.</td>\n",
       "    </tr>\n",
       "    <tr>\n",
       "      <th>3</th>\n",
       "      <td>4</td>\n",
       "      <td>Kube inja nelikati betingevakala kutsi titsini...</td>\n",
       "    </tr>\n",
       "    <tr>\n",
       "      <th>4</th>\n",
       "      <td>5</td>\n",
       "      <td>Winste op buitelandse valuta.</td>\n",
       "    </tr>\n",
       "  </tbody>\n",
       "</table>\n",
       "</div>"
      ],
      "text/plain": [
       "   index                                               text\n",
       "0      1  Mmasepala, fa maemo a a kgethegileng a letlele...\n",
       "1      2  Uzakwaziswa ngokufaneleko nakungafuneka eminye...\n",
       "2      3         Tshivhumbeo tshi fana na ngano dza vhathu.\n",
       "3      4  Kube inja nelikati betingevakala kutsi titsini...\n",
       "4      5                      Winste op buitelandse valuta."
      ]
     },
     "execution_count": 4,
     "metadata": {},
     "output_type": "execute_result"
    }
   ],
   "source": [
    "df_test.head()"
   ]
  },
  {
   "cell_type": "markdown",
   "id": "70bc38b3",
   "metadata": {},
   "source": [
    "#### Below, the number of rows and columns in both data sets are observed."
   ]
  },
  {
   "cell_type": "code",
   "execution_count": 5,
   "id": "f61d2fda",
   "metadata": {},
   "outputs": [
    {
     "data": {
      "text/plain": [
       "((33000, 2), (5682, 2))"
      ]
     },
     "execution_count": 5,
     "metadata": {},
     "output_type": "execute_result"
    }
   ],
   "source": [
    "df_train.shape, df_test.shape"
   ]
  },
  {
   "cell_type": "markdown",
   "id": "e387e1f7",
   "metadata": {},
   "source": [
    "#### From above, it is observed that the df_train has 33 000 rows and df_test has 5 682 rows. Both data sets have 2 columns.\n",
    "- df_train has columns lang_id, and text.\n",
    "- df_test has columns index, and text.\n",
    "</br></br>"
   ]
  },
  {
   "cell_type": "markdown",
   "id": "01cd703e",
   "metadata": {},
   "source": [
    "#### Checking if the data sets have any missing values or empty rows"
   ]
  },
  {
   "cell_type": "code",
   "execution_count": 6,
   "id": "e222be9d",
   "metadata": {},
   "outputs": [
    {
     "data": {
      "text/plain": [
       "lang_id    0\n",
       "text       0\n",
       "dtype: int64"
      ]
     },
     "execution_count": 6,
     "metadata": {},
     "output_type": "execute_result"
    }
   ],
   "source": [
    "df_train.isnull().sum()"
   ]
  },
  {
   "cell_type": "code",
   "execution_count": 7,
   "id": "f11c3b6b",
   "metadata": {},
   "outputs": [
    {
     "data": {
      "text/plain": [
       "index    0\n",
       "text     0\n",
       "dtype: int64"
      ]
     },
     "execution_count": 7,
     "metadata": {},
     "output_type": "execute_result"
    }
   ],
   "source": [
    "df_test.isnull().sum()"
   ]
  },
  {
   "cell_type": "markdown",
   "id": "a1aa9b2a",
   "metadata": {},
   "source": [
    "#### From above, it is observed that the total number of missing values in both data sets is zero. The data sets do not have null values. </br></br></br>"
   ]
  },
  {
   "cell_type": "markdown",
   "id": "3964fdfc",
   "metadata": {},
   "source": [
    "#### Viewing the entire content of a few random texts in df_train, to better undestand the data."
   ]
  },
  {
   "cell_type": "code",
   "execution_count": 8,
   "id": "f2386ca6",
   "metadata": {},
   "outputs": [
    {
     "name": "stdout",
     "output_type": "stream",
     "text": [
      "umgaqo-siseko wenza amalungiselelo kumaziko axhasa ulawulo lwesininzi kunye nokuthath inxaxheba kwabafazi ezi ziquka phakathi kwezinye zazo ikomishoni yokulingana ngokwesini ikomishoni yamalungelo oluntu lomzantsi afrika\n"
     ]
    }
   ],
   "source": [
    "print(df_train.loc[0, 'text'])"
   ]
  },
  {
   "cell_type": "code",
   "execution_count": 9,
   "id": "a848622e",
   "metadata": {},
   "outputs": [
    {
     "name": "stdout",
     "output_type": "stream",
     "text": [
      "the province of kwazulu-natal department of transport invites tenders from established contractors experienced in bridge construction for the construction of the kwajolwayo tugela river pedestrian bridge near tugela ferry the duration of the project will be months\n"
     ]
    }
   ],
   "source": [
    "print(df_train.loc[2, 'text'])"
   ]
  },
  {
   "cell_type": "code",
   "execution_count": 10,
   "id": "283a6555",
   "metadata": {},
   "outputs": [
    {
     "name": "stdout",
     "output_type": "stream",
     "text": [
      "maikemisetso a magolo a lenaneo ke go phasalatsa ditlamelo le ditshono tsa dikgwebo go maatlafatsa ikonomi ya baagi ba selegae gore ba kgone go itumelela melemo ya ditshono tsa leruri tsa ditiro le seemo se se tokafetseng sa botshelo\n"
     ]
    }
   ],
   "source": [
    "print(df_train.loc[20, 'text'])"
   ]
  },
  {
   "cell_type": "markdown",
   "id": "559d1423",
   "metadata": {},
   "source": [
    "#### Below, the number of texts for each language is observed."
   ]
  },
  {
   "cell_type": "code",
   "execution_count": 11,
   "id": "6339668e",
   "metadata": {},
   "outputs": [
    {
     "data": {
      "text/html": [
       "<div>\n",
       "<style scoped>\n",
       "    .dataframe tbody tr th:only-of-type {\n",
       "        vertical-align: middle;\n",
       "    }\n",
       "\n",
       "    .dataframe tbody tr th {\n",
       "        vertical-align: top;\n",
       "    }\n",
       "\n",
       "    .dataframe thead th {\n",
       "        text-align: right;\n",
       "    }\n",
       "</style>\n",
       "<table border=\"1\" class=\"dataframe\">\n",
       "  <thead>\n",
       "    <tr style=\"text-align: right;\">\n",
       "      <th></th>\n",
       "      <th>lang_id</th>\n",
       "      <th>text</th>\n",
       "    </tr>\n",
       "  </thead>\n",
       "  <tbody>\n",
       "    <tr>\n",
       "      <th>0</th>\n",
       "      <td>afr</td>\n",
       "      <td>3000</td>\n",
       "    </tr>\n",
       "    <tr>\n",
       "      <th>1</th>\n",
       "      <td>eng</td>\n",
       "      <td>3000</td>\n",
       "    </tr>\n",
       "    <tr>\n",
       "      <th>2</th>\n",
       "      <td>nbl</td>\n",
       "      <td>3000</td>\n",
       "    </tr>\n",
       "    <tr>\n",
       "      <th>3</th>\n",
       "      <td>nso</td>\n",
       "      <td>3000</td>\n",
       "    </tr>\n",
       "    <tr>\n",
       "      <th>4</th>\n",
       "      <td>sot</td>\n",
       "      <td>3000</td>\n",
       "    </tr>\n",
       "    <tr>\n",
       "      <th>5</th>\n",
       "      <td>ssw</td>\n",
       "      <td>3000</td>\n",
       "    </tr>\n",
       "    <tr>\n",
       "      <th>6</th>\n",
       "      <td>tsn</td>\n",
       "      <td>3000</td>\n",
       "    </tr>\n",
       "    <tr>\n",
       "      <th>7</th>\n",
       "      <td>tso</td>\n",
       "      <td>3000</td>\n",
       "    </tr>\n",
       "    <tr>\n",
       "      <th>8</th>\n",
       "      <td>ven</td>\n",
       "      <td>3000</td>\n",
       "    </tr>\n",
       "    <tr>\n",
       "      <th>9</th>\n",
       "      <td>xho</td>\n",
       "      <td>3000</td>\n",
       "    </tr>\n",
       "    <tr>\n",
       "      <th>10</th>\n",
       "      <td>zul</td>\n",
       "      <td>3000</td>\n",
       "    </tr>\n",
       "  </tbody>\n",
       "</table>\n",
       "</div>"
      ],
      "text/plain": [
       "   lang_id  text\n",
       "0      afr  3000\n",
       "1      eng  3000\n",
       "2      nbl  3000\n",
       "3      nso  3000\n",
       "4      sot  3000\n",
       "5      ssw  3000\n",
       "6      tsn  3000\n",
       "7      tso  3000\n",
       "8      ven  3000\n",
       "9      xho  3000\n",
       "10     zul  3000"
      ]
     },
     "execution_count": 11,
     "metadata": {},
     "output_type": "execute_result"
    }
   ],
   "source": [
    "count = df_train.groupby('lang_id').count()['text'].reset_index().sort_values(by=['text'])\n",
    "count"
   ]
  },
  {
   "cell_type": "markdown",
   "id": "dc622634",
   "metadata": {},
   "source": [
    "#### From above, it is observed that each language has 3000 texts.</br></br></br></br>"
   ]
  },
  {
   "cell_type": "markdown",
   "id": "7581d518",
   "metadata": {},
   "source": [
    "#### Representing the number of texts in each language on a countplot"
   ]
  },
  {
   "cell_type": "code",
   "execution_count": 12,
   "id": "673fe34d",
   "metadata": {},
   "outputs": [
    {
     "data": {
      "text/plain": [
       "<AxesSubplot:xlabel='lang_id', ylabel='count'>"
      ]
     },
     "execution_count": 12,
     "metadata": {},
     "output_type": "execute_result"
    },
    {
     "data": {
      "image/png": "[encoded data removed]",
      "text/plain": [
       "<Figure size 864x432 with 1 Axes>"
      ]
     },
     "metadata": {
      "needs_background": "light"
     },
     "output_type": "display_data"
    }
   ],
   "source": [
    "plt.figure(figsize=(12, 6))\n",
    "sns.countplot(x='lang_id', data=df_train)"
   ]
  },
  {
   "cell_type": "markdown",
   "id": "f583d4c3",
   "metadata": {},
   "source": [
    "#### From the countplot above, it is clearly observed that each language is represented 3000 times. </br></br></br></br>"
   ]
  },
  {
   "cell_type": "markdown",
   "id": "c37e8291",
   "metadata": {},
   "source": [
    "<a id=\"four\"></a>\n",
    "# Data Engineering\n",
    "<a href=#cont>Back to Table of Contents</a>\n",
    "\n",
    "In this section, these changes are made:\n",
    "- Changing text to lowercase\n",
    "- Removing punctuation, speacial characters, and numbers\n",
    "- Removing stopwords using the count vectorizer\n"
   ]
  },
  {
   "cell_type": "code",
   "execution_count": 13,
   "id": "4b2225b1",
   "metadata": {},
   "outputs": [],
   "source": [
    "X = df_train[\"text\"]\n",
    "y = df_train[\"lang_id\"] \n",
    "X_test_text = df_test['text'] "
   ]
  },
  {
   "cell_type": "code",
   "execution_count": 14,
   "id": "b25c1e59",
   "metadata": {},
   "outputs": [],
   "source": [
    "df_train_list = []      # initializing the list\n",
    "for text in X:    # iterating through all the text\n",
    "\n",
    "    # Removing symbols, special characters and numbers\n",
    "    text = re.sub(r'[!@#$(),n\"%^*?:;~`0-9]', ' ', text)\n",
    "        \n",
    "    # Converting the text to lower case\n",
    "    text = text.lower()\n",
    "        \n",
    "    df_train_list.append(text)"
   ]
  },
  {
   "cell_type": "code",
   "execution_count": 15,
   "id": "8bd31563",
   "metadata": {},
   "outputs": [],
   "source": [
    "df_test_list = []\n",
    "# iterating through all the text\n",
    "for text in X_test_text:\n",
    "    \n",
    "    # Removing symbols, special characters and numbers\n",
    "    text = re.sub(r'[!@#$(),n\"%^*?:;~`0-9]', ' ', text)\n",
    "        \n",
    "    # Converting the text to lowercase\n",
    "    text = text.lower()\n",
    "\n",
    "    df_test_list.append(text)"
   ]
  },
  {
   "cell_type": "code",
   "execution_count": 16,
   "id": "40272b13",
   "metadata": {},
   "outputs": [],
   "source": [
    "vect = CountVectorizer(ngram_range=(1, 2), stop_words = 'english')\n",
    "X = vect.fit_transform(X)"
   ]
  },
  {
   "cell_type": "code",
   "execution_count": 17,
   "id": "fb7e974a",
   "metadata": {},
   "outputs": [],
   "source": [
    "# Preparing the test data\n",
    "X_test_text = vect.transform(X_test_text)"
   ]
  },
  {
   "cell_type": "code",
   "execution_count": 18,
   "id": "bf7ce527",
   "metadata": {},
   "outputs": [],
   "source": [
    "X_train, X_test, y_train, y_test = train_test_split(X, y, test_size=0.2, random_state=42)"
   ]
  },
  {
   "cell_type": "markdown",
   "id": "426b27d0",
   "metadata": {},
   "source": [
    "<a id=\"five\"></a>\n",
    "# Modeling\n",
    "<a href=#cont>Back to Table of Contents</a>\n"
   ]
  },
  {
   "cell_type": "markdown",
   "id": "84aebd9c",
   "metadata": {},
   "source": [
    "### Model 1 : Naive Bayes Classifier"
   ]
  },
  {
   "cell_type": "code",
   "execution_count": 19,
   "id": "f365ffde",
   "metadata": {},
   "outputs": [
    {
     "name": "stdout",
     "output_type": "stream",
     "text": [
      "F1 score = 0.9990909913049045\n",
      "Accuracy =  0.9990909090909091\n",
      "Classification Report:\n",
      "               precision    recall  f1-score   support\n",
      "\n",
      "         afr       1.00      1.00      1.00       583\n",
      "         eng       1.00      1.00      1.00       615\n",
      "         nbl       1.00      1.00      1.00       583\n",
      "         nso       1.00      1.00      1.00       625\n",
      "         sot       1.00      1.00      1.00       618\n",
      "         ssw       1.00      1.00      1.00       584\n",
      "         tsn       1.00      1.00      1.00       598\n",
      "         tso       1.00      1.00      1.00       561\n",
      "         ven       1.00      1.00      1.00       634\n",
      "         xho       1.00      1.00      1.00       609\n",
      "         zul       1.00      1.00      1.00       590\n",
      "\n",
      "    accuracy                           1.00      6600\n",
      "   macro avg       1.00      1.00      1.00      6600\n",
      "weighted avg       1.00      1.00      1.00      6600\n",
      "\n"
     ]
    }
   ],
   "source": [
    "nbc = MultinomialNB()\n",
    "\n",
    "# Fitting data into the Naive Bayes model\n",
    "nbc.fit(X_train, y_train)\n",
    "\n",
    "# Predicting the y labels\n",
    "nbc_y_pred = nbc.predict(X_test)\n",
    "\n",
    "# F1 Score\n",
    "nbc_f1 = f1_score(y_test, nbc_y_pred, average='macro')\n",
    "\n",
    "#metrics reporting\n",
    "acc = accuracy_score(y_test, nbc_y_pred)\n",
    "\n",
    "report = classification_report(y_test,nbc_y_pred)\n",
    "\n",
    "print('F1 score =', nbc_f1)\n",
    "print(\"Accuracy = \", acc)\n",
    "print(\"Classification Report:\\n\", report)"
   ]
  },
  {
   "cell_type": "markdown",
   "id": "3e710b64",
   "metadata": {},
   "source": [
    "### Model 2: Logistic Regression"
   ]
  },
  {
   "cell_type": "code",
   "execution_count": 20,
   "id": "4ca8118e",
   "metadata": {},
   "outputs": [
    {
     "name": "stdout",
     "output_type": "stream",
     "text": [
      "F1 score = 0.9928331788974943\n",
      "Accuracy =  0.9928787878787879\n",
      "Classification Report:\n",
      "               precision    recall  f1-score   support\n",
      "\n",
      "         afr       1.00      0.99      1.00       583\n",
      "         eng       0.98      1.00      0.99       615\n",
      "         nbl       0.98      0.98      0.98       583\n",
      "         nso       1.00      0.99      1.00       625\n",
      "         sot       1.00      1.00      1.00       618\n",
      "         ssw       1.00      0.99      0.99       584\n",
      "         tsn       0.99      1.00      1.00       598\n",
      "         tso       1.00      1.00      1.00       561\n",
      "         ven       1.00      1.00      1.00       634\n",
      "         xho       0.99      0.99      0.99       609\n",
      "         zul       0.98      0.97      0.98       590\n",
      "\n",
      "    accuracy                           0.99      6600\n",
      "   macro avg       0.99      0.99      0.99      6600\n",
      "weighted avg       0.99      0.99      0.99      6600\n",
      "\n"
     ]
    }
   ],
   "source": [
    "lg = LogisticRegression()\n",
    "\n",
    "# Fitting data into the Naive Bayes model\n",
    "lg.fit(X_train, y_train)\n",
    "\n",
    "# Predicting the y labels\n",
    "lg_y_pred = lg.predict(X_test)\n",
    "\n",
    "# F1 Score\n",
    "lg_f1 = f1_score(y_test, lg_y_pred, average='macro')\n",
    "\n",
    "#metrics reporting\n",
    "acc = accuracy_score(y_test, lg_y_pred)\n",
    "\n",
    "report = classification_report(y_test,lg_y_pred)\n",
    "\n",
    "print('F1 score =', lg_f1)\n",
    "print(\"Accuracy = \", acc)\n",
    "print(\"Classification Report:\\n\", report)"
   ]
  },
  {
   "cell_type": "markdown",
   "id": "172d8910",
   "metadata": {},
   "source": [
    "### Model 3 : Support Vector Classifier"
   ]
  },
  {
   "cell_type": "code",
   "execution_count": 21,
   "id": "70420e24",
   "metadata": {
    "scrolled": false
   },
   "outputs": [
    {
     "name": "stdout",
     "output_type": "stream",
     "text": [
      "F1 score = 0.9942037375981442\n",
      "Accuracy =  0.9942424242424243\n",
      "Classification Report:\n",
      "               precision    recall  f1-score   support\n",
      "\n",
      "         afr       1.00      0.99      1.00       583\n",
      "         eng       0.99      1.00      1.00       615\n",
      "         nbl       0.99      0.99      0.99       583\n",
      "         nso       1.00      0.99      1.00       625\n",
      "         sot       1.00      1.00      1.00       618\n",
      "         ssw       1.00      0.99      1.00       584\n",
      "         tsn       1.00      1.00      1.00       598\n",
      "         tso       1.00      1.00      1.00       561\n",
      "         ven       1.00      1.00      1.00       634\n",
      "         xho       0.99      0.99      0.99       609\n",
      "         zul       0.98      0.98      0.98       590\n",
      "\n",
      "    accuracy                           0.99      6600\n",
      "   macro avg       0.99      0.99      0.99      6600\n",
      "weighted avg       0.99      0.99      0.99      6600\n",
      "\n"
     ]
    }
   ],
   "source": [
    "svc = LinearSVC()\n",
    "\n",
    "# Fitting data into the Naive Bayes model\n",
    "svc.fit(X_train, y_train)\n",
    "\n",
    "# Predicting the y labels\n",
    "svc_y_pred = svc.predict(X_test)\n",
    "\n",
    "# F1 Score\n",
    "svc_f1 = f1_score(y_test, svc_y_pred, average='macro')\n",
    "\n",
    "#metrics reporting\n",
    "acc = accuracy_score(y_test, svc_y_pred)\n",
    "\n",
    "report = classification_report(y_test, svc_y_pred)\n",
    "\n",
    "print('F1 score =', svc_f1)\n",
    "\n",
    "print(\"Accuracy = \", acc)\n",
    "print(\"Classification Report:\\n\", report)"
   ]
  },
  {
   "cell_type": "markdown",
   "id": "237d85f5",
   "metadata": {},
   "source": [
    "### Model 4: K Nearest Neighbors"
   ]
  },
  {
   "cell_type": "code",
   "execution_count": 22,
   "id": "d3ff87d9",
   "metadata": {},
   "outputs": [
    {
     "name": "stdout",
     "output_type": "stream",
     "text": [
      "F1 Score =  0.40138246189274585\n",
      "Accuracy =  0.3881818181818182\n",
      "Classification Report:\n",
      "               precision    recall  f1-score   support\n",
      "\n",
      "         afr       1.00      0.70      0.82       583\n",
      "         eng       0.14      1.00      0.24       615\n",
      "         nbl       0.94      0.03      0.05       583\n",
      "         nso       0.86      0.54      0.66       625\n",
      "         sot       0.99      0.57      0.73       618\n",
      "         ssw       1.00      0.02      0.03       584\n",
      "         tsn       0.86      0.51      0.64       598\n",
      "         tso       1.00      0.41      0.58       561\n",
      "         ven       1.00      0.41      0.59       634\n",
      "         xho       1.00      0.01      0.02       609\n",
      "         zul       0.94      0.03      0.05       590\n",
      "\n",
      "    accuracy                           0.39      6600\n",
      "   macro avg       0.88      0.38      0.40      6600\n",
      "weighted avg       0.88      0.39      0.40      6600\n",
      "\n"
     ]
    }
   ],
   "source": [
    "knn = KNeighborsClassifier(n_neighbors=10)\n",
    "\n",
    "# Fitting data into the Naive Bayes model\n",
    "knn.fit(X_train, y_train)\n",
    "\n",
    "# Predicting the y labels\n",
    "knn_y_pred = knn.predict(X_test)\n",
    "\n",
    "#metrics reporting\n",
    "# F1 Score\n",
    "knn_f1 = f1_score(y_test, knn_y_pred, average='macro')\n",
    "acc = accuracy_score(y_test, knn_y_pred)\n",
    "\n",
    "report = classification_report(y_test, knn_y_pred)\n",
    "\n",
    "print('F1 Score = ', knn_f1)\n",
    "print(\"Accuracy = \", acc)\n",
    "print(\"Classification Report:\\n\", report)"
   ]
  },
  {
   "cell_type": "markdown",
   "id": "bc4a3e9b",
   "metadata": {},
   "source": [
    "### Model 5: Random Forest Classifier"
   ]
  },
  {
   "cell_type": "code",
   "execution_count": 24,
   "id": "bf1c1282",
   "metadata": {},
   "outputs": [
    {
     "name": "stdout",
     "output_type": "stream",
     "text": [
      "F1 Score =  0.9819060680185657\n",
      "Accuracy =  0.9819696969696969\n",
      "Classification Report:\n",
      "               precision    recall  f1-score   support\n",
      "\n",
      "         afr       1.00      1.00      1.00       583\n",
      "         eng       0.95      1.00      0.97       615\n",
      "         nbl       0.99      0.95      0.96       583\n",
      "         nso       1.00      0.99      0.99       625\n",
      "         sot       1.00      1.00      1.00       618\n",
      "         ssw       0.99      0.96      0.97       584\n",
      "         tsn       0.99      1.00      0.99       598\n",
      "         tso       1.00      1.00      1.00       561\n",
      "         ven       1.00      1.00      1.00       634\n",
      "         xho       0.98      0.95      0.97       609\n",
      "         zul       0.91      0.96      0.94       590\n",
      "\n",
      "    accuracy                           0.98      6600\n",
      "   macro avg       0.98      0.98      0.98      6600\n",
      "weighted avg       0.98      0.98      0.98      6600\n",
      "\n"
     ]
    }
   ],
   "source": [
    "rfc = RandomForestClassifier(n_estimators=50, random_state=42)\n",
    "\n",
    "# Fitting data into the Naive Bayes model\n",
    "rfc.fit(X_train, y_train)\n",
    "\n",
    "# Predicting the y labels\n",
    "rf_y_pred = rfc.predict(X_test)\n",
    "\n",
    "#metrics reporting\n",
    "# F1 Score\n",
    "rf_f1 = f1_score(y_test, rf_y_pred, average='macro')\n",
    "acc = accuracy_score(y_test, rf_y_pred)\n",
    "\n",
    "report = classification_report(y_test, rf_y_pred)\n",
    "\n",
    "print('F1 Score = ', rf_f1)\n",
    "print(\"Accuracy = \", acc)\n",
    "print(\"Classification Report:\\n\", report)"
   ]
  },
  {
   "cell_type": "markdown",
   "id": "00d13d8d",
   "metadata": {},
   "source": [
    "### Predicting on the test data set"
   ]
  },
  {
   "cell_type": "code",
   "execution_count": 34,
   "id": "fe713f28",
   "metadata": {},
   "outputs": [],
   "source": [
    "test_pred = nbc.predict(X_test_text)"
   ]
  },
  {
   "cell_type": "code",
   "execution_count": 35,
   "id": "4f126581",
   "metadata": {},
   "outputs": [],
   "source": [
    "# Adding the predictions to df_test\n",
    "df_test['lang_id'] = nbc.predict(X_test_text)"
   ]
  },
  {
   "cell_type": "markdown",
   "id": "d387590e",
   "metadata": {},
   "source": [
    "### Creating submission file for Kaggle"
   ]
  },
  {
   "cell_type": "code",
   "execution_count": 36,
   "id": "2ee087f5",
   "metadata": {},
   "outputs": [],
   "source": [
    "df_test[['index', 'lang_id']].to_csv('nbc_submission.csv', index=False)"
   ]
  },
  {
   "cell_type": "code",
   "execution_count": 37,
   "id": "177c5e2c",
   "metadata": {},
   "outputs": [
    {
     "data": {
      "text/html": [
       "<div>\n",
       "<style scoped>\n",
       "    .dataframe tbody tr th:only-of-type {\n",
       "        vertical-align: middle;\n",
       "    }\n",
       "\n",
       "    .dataframe tbody tr th {\n",
       "        vertical-align: top;\n",
       "    }\n",
       "\n",
       "    .dataframe thead th {\n",
       "        text-align: right;\n",
       "    }\n",
       "</style>\n",
       "<table border=\"1\" class=\"dataframe\">\n",
       "  <thead>\n",
       "    <tr style=\"text-align: right;\">\n",
       "      <th></th>\n",
       "      <th>index</th>\n",
       "      <th>lang_id</th>\n",
       "    </tr>\n",
       "  </thead>\n",
       "  <tbody>\n",
       "    <tr>\n",
       "      <th>0</th>\n",
       "      <td>1</td>\n",
       "      <td>eng</td>\n",
       "    </tr>\n",
       "    <tr>\n",
       "      <th>1</th>\n",
       "      <td>2</td>\n",
       "      <td>nbl</td>\n",
       "    </tr>\n",
       "    <tr>\n",
       "      <th>2</th>\n",
       "      <td>3</td>\n",
       "      <td>eng</td>\n",
       "    </tr>\n",
       "    <tr>\n",
       "      <th>3</th>\n",
       "      <td>4</td>\n",
       "      <td>ssw</td>\n",
       "    </tr>\n",
       "    <tr>\n",
       "      <th>4</th>\n",
       "      <td>5</td>\n",
       "      <td>eng</td>\n",
       "    </tr>\n",
       "  </tbody>\n",
       "</table>\n",
       "</div>"
      ],
      "text/plain": [
       "   index lang_id\n",
       "0      1     eng\n",
       "1      2     nbl\n",
       "2      3     eng\n",
       "3      4     ssw\n",
       "4      5     eng"
      ]
     },
     "execution_count": 37,
     "metadata": {},
     "output_type": "execute_result"
    }
   ],
   "source": [
    "# Checking how the generated csv file looks\n",
    "my_sub = pd.read_csv('nbc_submission.csv')\n",
    "my_sub.head()"
   ]
  },
  {
   "cell_type": "markdown",
   "id": "8ca0b2d0",
   "metadata": {},
   "source": [
    "<a id=\"six\"></a>\n",
    "# Model Performance\n",
    "<a href=#cont>Back to Table of Contents</a>\n",
    "\n",
    "In this section, a horizontal bar graph of the f1 scores for the different models is plotted.\n"
   ]
  },
  {
   "cell_type": "code",
   "execution_count": 27,
   "id": "9e08a59a",
   "metadata": {},
   "outputs": [
    {
     "data": {
      "image/png": "[encoded data removed]",
      "text/plain": [
       "<Figure size 432x288 with 1 Axes>"
      ]
     },
     "metadata": {
      "needs_background": "light"
     },
     "output_type": "display_data"
    }
   ],
   "source": [
    "#Bar graph with the f1 score for each model\\n\",\n",
    "models = ['Naive Bayes Classifier', 'Logistic regression', 'Support Vector Classifier', 'K Nearest Neighbor', 'Random Forest']\n",
    "f1_score = [nbc_f1, lg_f1, svc_f1, knn_f1, rf_f1]\n",
    "fig, ax = plt.subplots()\n",
    "hbars = ax.barh(models, f1_score, align='center',color=['lightgreen'])\n",
    "ax.set_yticks(models, labels= models)\n",
    "ax.invert_yaxis()  # labels read top-to-bottom\n",
    "ax.set_xlabel('F1_score')\n",
    "ax.set_title('Model Performance comparison')\n",
    "ax.bar_label(hbars, fmt='%.3f',padding=8, color='b', fontsize=14)\n",
    "ax.set_xlim(right=1)  \n",
    "\n",
    "plt.show()"
   ]
  },
  {
   "attachments": {},
   "cell_type": "markdown",
   "id": "36b0f9c7",
   "metadata": {},
   "source": [
    "### Conclusion\n",
    "\n",
    "It is observed that the Naive Bayes Classifier perfomed the best in terms of classifying which language a text belongs to, which is also the model that gave the highest score of 0.95864 on Kaggle."
   ]
  },
  {
   "cell_type": "markdown",
   "id": "7ca5420c",
   "metadata": {},
   "source": []
  }
 ],
 "metadata": {
  "kernelspec": {
   "display_name": "Python 3 (ipykernel)",
   "language": "python",
   "name": "python3"
  },
  "language_info": {
   "codemirror_mode": {
    "name": "ipython",
    "version": 3
   },
   "file_extension": ".py",
   "mimetype": "text/x-python",
   "name": "python",
   "nbconvert_exporter": "python",
   "pygments_lexer": "ipython3",
   "version": "3.9.12"
  }
 },
 "nbformat": 4,
 "nbformat_minor": 5
}
